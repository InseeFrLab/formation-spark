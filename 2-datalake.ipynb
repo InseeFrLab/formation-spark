{
 "cells": [
  {
   "cell_type": "markdown",
   "metadata": {},
   "source": [
    "## Datalake et sources de données\n",
    "\n",
    "D'une façon générale, il est important d'avoir une bonne compréhension sur les entrées et sorties d'un processus. C'est primordial lorsque l'on souhaite distribuer la réalisation d'un processus."
   ]
  },
  {
   "cell_type": "markdown",
   "metadata": {},
   "source": [
    "Dans une phase de création, le datascientist va généralement s'appuyer sur un datalake : des données relativement brutes qu'il va chercher à exploiter. Ce datalake prend généralement la forme d'un système de fichier distribué. "
   ]
  },
  {
   "cell_type": "markdown",
   "metadata": {},
   "source": [
    "Spark s'appuie sur les librairies hadoop pour récupérer en mémoire les données qui se trouvent dans le datalake. La majorité des datalakes utilisent la technologie HDFS (Hadoop Distributed File System). Néanmoins ce n'est pas le choix que nous avons fait sur le datalab. "
   ]
  },
  {
   "cell_type": "markdown",
   "metadata": {},
   "source": [
    "#### Le choix d'un datalake basé sur S3\n",
    "\n",
    "Ce tutorial se concentre sur la connexion de spark à une source de donnée fichier au sens large. D'autres sources sont possibles (SGBD, base no sql). En particulier nous nous concentrons sur le stockage orienté objet avec l'API S3. Pourquoi un stockage S3 plutôt que HDFS, le système de stockage distribué d'Hadoop ? HDFS est apparu avec la nécessité de **colocaliser les traitements et les données** dans le monde du BigData. C'était un concept fort poussé par Map&Reduce suite aux travaux de google en 2004.\n",
    "Pour faire court ce modèle décline, c'est trop cher à maintenir et ca correspond de moins en moins à nos processus de traitement de données. En effet, aujourd'hui beaucoup de projets font intervenir des méthodes de machine learning, donc des modèles couteux à entrainer en CPU/GPU (voire TPU), mais sur des jeux de données généralement de taille limitée. La nouvelle tendance sera donc sans doute de découpler la croissance de la capacité de stockage et celle de traitement. Et si cette tendance se confirme alors le stockage S3 qui est une API de distribution d'objet (fichier + metadonnées associées) se développera fortement, profitant de l'appui des offreurs de cloud public et de ses qualités intrinsèques :\n",
    "* une API http donc facilement accessible\n",
    "* compatible avec Hadoop pour en être une source de donnée\n",
    "* des fonctions de chiffrement et d'authentification à la demande\n",
    "\n",
    "Bref c'est ce modèle qu'on met en avant dans le datalab pour sa facilité d'implémentation, sa facilité de sécurisation et d'audit, son cout plus faible, au risque de perdre un peu en vitesse avec la non colocalisation des traitements et des données.\n"
   ]
  },
  {
   "cell_type": "markdown",
   "metadata": {},
   "source": [
    "### Let's go\n",
    "\n",
    "Pas de changement, on lance notre contexte spark local.. un autre jour pour passer la distribution des calculs dans un cluster."
   ]
  },
  {
   "cell_type": "code",
   "execution_count": 1,
   "metadata": {},
   "outputs": [
    {
     "name": "stderr",
     "output_type": "stream",
     "text": [
      "WARNING: An illegal reflective access operation has occurred\n",
      "WARNING: Illegal reflective access by org.apache.spark.unsafe.Platform (file:/opt/spark/jars/spark-unsafe_2.12-3.2.0.jar) to constructor java.nio.DirectByteBuffer(long,int)\n",
      "WARNING: Please consider reporting this to the maintainers of org.apache.spark.unsafe.Platform\n",
      "WARNING: Use --illegal-access=warn to enable warnings of further illegal reflective access operations\n",
      "WARNING: All illegal access operations will be denied in a future release\n",
      "Setting default log level to \"WARN\".\n",
      "To adjust logging level use sc.setLogLevel(newLevel). For SparkR, use setLogLevel(newLevel).\n",
      "2021-10-29 13:01:03,894 WARN util.NativeCodeLoader: Unable to load native-hadoop library for your platform... using builtin-java classes where applicable\n"
     ]
    }
   ],
   "source": [
    "from pyspark.sql import SparkSession\n",
    "\n",
    "spark = (SparkSession \n",
    "         .builder\n",
    "         .appName(\"Datalake TP\")\n",
    "         .master(\"local[5]\")\n",
    "         .getOrCreate()\n",
    "        )"
   ]
  },
  {
   "cell_type": "markdown",
   "metadata": {},
   "source": [
    "### Les données : sirene opendata\n",
    "\n",
    "J'ai mis dans un bucket de projet (projet-spark-lab) des données open data de la base sirene, dans le **dossier diffusion qui est accessible en consultation à chaque personne ayant un compte dans le datalab.. Ceci est vrai pour tous les buckets, y compris tous les votres.**\n",
    "\n",
    "Il est important de noter que notre Datalake a tout d'un DataSwamp : sans gouvernance, sans moteur de recherche c'est un vrai marécage de données où les duplications de données seront légions.\n",
    "\n",
    "Le code-ci dessous vous montre le fichier en question dans cet espace de stockage de projet avec la librairie python s3fs (pas de spark ici)"
   ]
  },
  {
   "cell_type": "code",
   "execution_count": 2,
   "metadata": {},
   "outputs": [
    {
     "data": {
      "text/plain": [
       "{'ETag': '\"f2954aae6c983505882aa894fb0faa91-419\"',\n",
       " 'Key': 'projet-spark-lab/diffusion/formation/data/sirene/sirene.csv',\n",
       " 'LastModified': datetime.datetime(2021, 9, 8, 16, 14, 17, 574000, tzinfo=tzlocal()),\n",
       " 'Size': 7019714602,\n",
       " 'size': 7019714602,\n",
       " 'name': 'projet-spark-lab/diffusion/formation/data/sirene/sirene.csv',\n",
       " 'type': 'file',\n",
       " 'StorageClass': 'STANDARD',\n",
       " 'VersionId': None}"
      ]
     },
     "execution_count": 2,
     "metadata": {},
     "output_type": "execute_result"
    }
   ],
   "source": [
    "import s3fs\n",
    "endpoint = \"https://\"+os.environ['AWS_S3_ENDPOINT']\n",
    "fs = s3fs.S3FileSystem(client_kwargs={'endpoint_url': endpoint})\n",
    "fs.info('s3://projet-spark-lab/diffusion/formation/data/sirene/sirene.csv')"
   ]
  },
  {
   "cell_type": "markdown",
   "metadata": {},
   "source": [
    "### Chargement des données et SparkSQL\n",
    "\n",
    "Dans l'introduction, nous avions utlisé uniquement des RDD. https://spark.apache.org/docs/latest/rdd-programming-guide.html\n",
    "C'est une interface de programmation de bas niveau qui donne une grande liberté de développement sur des fichiers non structurés mais en pratique on a le plus souvent des données structurées, notamment sous forme de table. Dès lors, le modèle des Spark DataFrames et l'interface de programmation SparkSQL permettent une manipulation plus simple, avec des optimisations issues des théories de l'algébre relationnelle.\n",
    "\n",
    "\n",
    "Nous allons charger le fichier csv avec la méthode suivante en inférant le schéma.\n",
    "\n",
    "**Spark va alors devoir lire une seconde fois l'ensemble du fichier pour déduire le type de chaque colonne du fichier**"
   ]
  },
  {
   "cell_type": "code",
   "execution_count": 4,
   "metadata": {},
   "outputs": [
    {
     "name": "stderr",
     "output_type": "stream",
     "text": [
      "                                                                                \r"
     ]
    }
   ],
   "source": [
    "df = (spark\n",
    "      .read.format(\"csv\")\n",
    "      .options(header='true', inferschema='true', delimiter=',')\n",
    "      .load(\"s3a://projet-spark-lab/diffusion/formation/data/sirene/sirene.csv\")\n",
    "     )"
   ]
  },
  {
   "cell_type": "code",
   "execution_count": 5,
   "metadata": {},
   "outputs": [
    {
     "name": "stdout",
     "output_type": "stream",
     "text": [
      "root\n",
      " |-- siren: integer (nullable = true)\n",
      " |-- nic: integer (nullable = true)\n",
      " |-- siret: long (nullable = true)\n",
      " |-- dateFin: string (nullable = true)\n",
      " |-- dateDebut: string (nullable = true)\n",
      " |-- etatAdministratifEtablissement: string (nullable = true)\n",
      " |-- changementEtatAdministratifEtablissement: boolean (nullable = true)\n",
      " |-- enseigne1Etablissement: string (nullable = true)\n",
      " |-- enseigne2Etablissement: string (nullable = true)\n",
      " |-- enseigne3Etablissement: string (nullable = true)\n",
      " |-- changementEnseigneEtablissement: boolean (nullable = true)\n",
      " |-- denominationUsuelleEtablissement: string (nullable = true)\n",
      " |-- changementDenominationUsuelleEtablissement: boolean (nullable = true)\n",
      " |-- activitePrincipaleEtablissement: string (nullable = true)\n",
      " |-- nomenclatureActivitePrincipaleEtablissement: string (nullable = true)\n",
      " |-- changementActivitePrincipaleEtablissement: string (nullable = true)\n",
      " |-- caractereEmployeurEtablissement: string (nullable = true)\n",
      " |-- changementCaractereEmployeurEtablissement: string (nullable = true)\n",
      "\n"
     ]
    }
   ],
   "source": [
    "df.printSchema()"
   ]
  },
  {
   "cell_type": "code",
   "execution_count": 6,
   "metadata": {},
   "outputs": [
    {
     "data": {
      "text/plain": [
       "DataFrame[siren: int, nic: int, siret: bigint, dateFin: string, dateDebut: string, etatAdministratifEtablissement: string, changementEtatAdministratifEtablissement: boolean, enseigne1Etablissement: string, enseigne2Etablissement: string, enseigne3Etablissement: string, changementEnseigneEtablissement: boolean, denominationUsuelleEtablissement: string, changementDenominationUsuelleEtablissement: boolean, activitePrincipaleEtablissement: string, nomenclatureActivitePrincipaleEtablissement: string, changementActivitePrincipaleEtablissement: string, caractereEmployeurEtablissement: string, changementCaractereEmployeurEtablissement: string]"
      ]
     },
     "execution_count": 6,
     "metadata": {},
     "output_type": "execute_result"
    }
   ],
   "source": [
    "df"
   ]
  },
  {
   "cell_type": "markdown",
   "metadata": {},
   "source": [
    "Une fois le schéma inféré ou imposé, on peut directement faire des opérations sur les données."
   ]
  },
  {
   "cell_type": "code",
   "execution_count": 8,
   "metadata": {},
   "outputs": [
    {
     "name": "stdout",
     "output_type": "stream",
     "text": [
      "+------+-----------+\n",
      "| siren|      siret|\n",
      "+------+-----------+\n",
      "|325175|32517500016|\n",
      "|325175|32517500016|\n",
      "|325175|32517500016|\n",
      "|325175|32517500024|\n",
      "|325175|32517500024|\n",
      "+------+-----------+\n",
      "only showing top 5 rows\n",
      "\n"
     ]
    }
   ],
   "source": [
    "# Via les opérations sur les DataFrames\n",
    "\n",
    "df.select(\"siren\", \"siret\").show(5)"
   ]
  },
  {
   "cell_type": "code",
   "execution_count": 13,
   "metadata": {},
   "outputs": [
    {
     "name": "stderr",
     "output_type": "stream",
     "text": [
      "                                                                                \r"
     ]
    },
    {
     "name": "stdout",
     "output_type": "stream",
     "text": [
      "+------+-----------+\n",
      "| siren|      siret|\n",
      "+------+-----------+\n",
      "|325175|32517500016|\n",
      "|325175|32517500016|\n",
      "|325175|32517500016|\n",
      "|325175|32517500024|\n",
      "|325175|32517500024|\n",
      "|325175|32517500032|\n",
      "|325175|32517500032|\n",
      "|325175|32517500040|\n",
      "|325175|32517500040|\n",
      "|325175|32517500057|\n",
      "+------+-----------+\n",
      "\n"
     ]
    },
    {
     "name": "stderr",
     "output_type": "stream",
     "text": [
      "[Stage 15:================================================>       (46 + 5) / 53]\r"
     ]
    },
    {
     "name": "stdout",
     "output_type": "stream",
     "text": [
      "10\n"
     ]
    },
    {
     "name": "stderr",
     "output_type": "stream",
     "text": [
      "                                                                                \r"
     ]
    }
   ],
   "source": [
    "# Via des reqûetes SQL, en créant une vue de la table\n",
    "df.createOrReplaceTempView(\"sirene\")\n",
    "\n",
    "sqlDF = spark.sql(\"SELECT siren, siret FROM sirene LIMIT 10\")\n",
    "sqlDF.show()\n",
    "\n",
    "print(sqlDF.count())"
   ]
  },
  {
   "cell_type": "markdown",
   "metadata": {},
   "source": [
    "#### Schéma pour la consultation des données sur S3 "
   ]
  },
  {
   "attachments": {
    "image.png": {
     "image/png": "[encoded data removed]"
    }
   },
   "cell_type": "markdown",
   "metadata": {},
   "source": [
    "![image.png](attachment:image.png)"
   ]
  },
  {
   "cell_type": "markdown",
   "metadata": {},
   "source": [
    "### Conclusion\n",
    "\n",
    "Au sein du datalab, l'accès à votre espace personnel de données depuis spark est pris en charge directement par l'infrastructure. \n",
    "L'effort est minimal puisqu'il vous suffit d'indiquer l'url du fichier précéder du procotole s3a. **s3a://bucket/path/du/fichier**\n",
    "\n",
    "Avoir un système de fichier distribué est le prérequis pour commencer à distribuer son calcul sur un **cluster de machine**."
   ]
  },
  {
   "cell_type": "code",
   "execution_count": 14,
   "metadata": {},
   "outputs": [],
   "source": [
    "spark.stop()"
   ]
  },
  {
   "cell_type": "code",
   "execution_count": null,
   "metadata": {},
   "outputs": [],
   "source": []
  }
 ],
 "metadata": {
  "kernelspec": {
   "display_name": "Python 3 (ipykernel)",
   "language": "python",
   "name": "python3"
  },
  "language_info": {
   "codemirror_mode": {
    "name": "ipython",
    "version": 3
   },
   "file_extension": ".py",
   "mimetype": "text/x-python",
   "name": "python",
   "nbconvert_exporter": "python",
   "pygments_lexer": "ipython3",
   "version": "3.9.7"
  }
 },
 "nbformat": 4,
 "nbformat_minor": 4
}
